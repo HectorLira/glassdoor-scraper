{
 "cells": [
  {
   "cell_type": "markdown",
   "metadata": {},
   "source": [
    "# Leyendo de una base de datos\n",
    "\n",
    "Habiendo ejecutado correctamente nuestro flujo de trabajo con Dagster, es hora de leer los datos almacenados."
   ]
  },
  {
   "cell_type": "code",
   "execution_count": 4,
   "metadata": {},
   "outputs": [],
   "source": [
    "import sqlite3\n",
    "import pandas as pd\n",
    "\n",
    "conn = sqlite3.connect(\"db_glassdoor\") \n",
    "c = conn.cursor()\n",
    "\n",
    "data = pd.read_sql_query(\"SELECT * FROM job_roles\", conn)"
   ]
  },
  {
   "cell_type": "code",
   "execution_count": 2,
   "metadata": {},
   "outputs": [
    {
     "data": {
      "text/plain": [
       "company_name          object\n",
       "company_rating        object\n",
       "job_title             object\n",
       "job_link              object\n",
       "job_id                object\n",
       "location              object\n",
       "is_fast_candidacy      int64\n",
       "salary_range_min     float64\n",
       "salary_range_max     float64\n",
       "listing_age_days     float64\n",
       "dtype: object"
      ]
     },
     "execution_count": 2,
     "metadata": {},
     "output_type": "execute_result"
    }
   ],
   "source": [
    "data.dtypes"
   ]
  },
  {
   "cell_type": "code",
   "execution_count": 5,
   "metadata": {},
   "outputs": [
    {
     "data": {
      "text/html": [
       "<div>\n",
       "<style scoped>\n",
       "    .dataframe tbody tr th:only-of-type {\n",
       "        vertical-align: middle;\n",
       "    }\n",
       "\n",
       "    .dataframe tbody tr th {\n",
       "        vertical-align: top;\n",
       "    }\n",
       "\n",
       "    .dataframe thead th {\n",
       "        text-align: right;\n",
       "    }\n",
       "</style>\n",
       "<table border=\"1\" class=\"dataframe\">\n",
       "  <thead>\n",
       "    <tr style=\"text-align: right;\">\n",
       "      <th></th>\n",
       "      <th>company_name</th>\n",
       "      <th>company_rating</th>\n",
       "      <th>job_title</th>\n",
       "      <th>job_link</th>\n",
       "      <th>job_id</th>\n",
       "      <th>location</th>\n",
       "      <th>is_fast_candidacy</th>\n",
       "      <th>salary_range_min</th>\n",
       "      <th>salary_range_max</th>\n",
       "      <th>listing_age_days</th>\n",
       "    </tr>\n",
       "  </thead>\n",
       "  <tbody>\n",
       "    <tr>\n",
       "      <th>0</th>\n",
       "      <td>Mphasis Limited (Digital Risk Business)</td>\n",
       "      <td>3.5</td>\n",
       "      <td>Sustainability Analyst</td>\n",
       "      <td>https://www.glassdoor.com.mx/job-listing/susta...</td>\n",
       "      <td>1008841088130</td>\n",
       "      <td>Guadalajara</td>\n",
       "      <td>1</td>\n",
       "      <td>15.0</td>\n",
       "      <td>16.0</td>\n",
       "      <td>30.0</td>\n",
       "    </tr>\n",
       "    <tr>\n",
       "      <th>1</th>\n",
       "      <td>Wise Athena</td>\n",
       "      <td>None</td>\n",
       "      <td>Data Analyst</td>\n",
       "      <td>https://www.glassdoor.com.mx/job-listing/data-...</td>\n",
       "      <td>1008910190887</td>\n",
       "      <td>Trabajo desde casa</td>\n",
       "      <td>1</td>\n",
       "      <td>19.0</td>\n",
       "      <td>28.0</td>\n",
       "      <td>20.0</td>\n",
       "    </tr>\n",
       "    <tr>\n",
       "      <th>2</th>\n",
       "      <td>VEscape Labs</td>\n",
       "      <td>None</td>\n",
       "      <td>Data Analyst</td>\n",
       "      <td>https://www.glassdoor.com.mx/job-listing/data-...</td>\n",
       "      <td>1008944837261</td>\n",
       "      <td>Trabajo desde casa</td>\n",
       "      <td>1</td>\n",
       "      <td>NaN</td>\n",
       "      <td>NaN</td>\n",
       "      <td>1.0</td>\n",
       "    </tr>\n",
       "    <tr>\n",
       "      <th>3</th>\n",
       "      <td>Lionbridge Technologies</td>\n",
       "      <td>3.6</td>\n",
       "      <td>Data Engineer II</td>\n",
       "      <td>https://www.glassdoor.com.mx/job-listing/data-...</td>\n",
       "      <td>1008839275512</td>\n",
       "      <td>Ciudad de México</td>\n",
       "      <td>1</td>\n",
       "      <td>27.0</td>\n",
       "      <td>32.0</td>\n",
       "      <td>30.0</td>\n",
       "    </tr>\n",
       "    <tr>\n",
       "      <th>4</th>\n",
       "      <td>TELUS</td>\n",
       "      <td>3.6</td>\n",
       "      <td>Online Data Analyst - Mexico</td>\n",
       "      <td>https://www.glassdoor.com.mx/job-listing/onlin...</td>\n",
       "      <td>1008742314157</td>\n",
       "      <td>Trabajo desde casa</td>\n",
       "      <td>0</td>\n",
       "      <td>NaN</td>\n",
       "      <td>NaN</td>\n",
       "      <td>30.0</td>\n",
       "    </tr>\n",
       "  </tbody>\n",
       "</table>\n",
       "</div>"
      ],
      "text/plain": [
       "                              company_name company_rating  \\\n",
       "0  Mphasis Limited (Digital Risk Business)            3.5   \n",
       "1                              Wise Athena           None   \n",
       "2                             VEscape Labs           None   \n",
       "3                  Lionbridge Technologies            3.6   \n",
       "4                                    TELUS            3.6   \n",
       "\n",
       "                      job_title  \\\n",
       "0        Sustainability Analyst   \n",
       "1                  Data Analyst   \n",
       "2                  Data Analyst   \n",
       "3              Data Engineer II   \n",
       "4  Online Data Analyst - Mexico   \n",
       "\n",
       "                                            job_link         job_id  \\\n",
       "0  https://www.glassdoor.com.mx/job-listing/susta...  1008841088130   \n",
       "1  https://www.glassdoor.com.mx/job-listing/data-...  1008910190887   \n",
       "2  https://www.glassdoor.com.mx/job-listing/data-...  1008944837261   \n",
       "3  https://www.glassdoor.com.mx/job-listing/data-...  1008839275512   \n",
       "4  https://www.glassdoor.com.mx/job-listing/onlin...  1008742314157   \n",
       "\n",
       "             location  is_fast_candidacy  salary_range_min  salary_range_max  \\\n",
       "0         Guadalajara                  1              15.0              16.0   \n",
       "1  Trabajo desde casa                  1              19.0              28.0   \n",
       "2  Trabajo desde casa                  1               NaN               NaN   \n",
       "3    Ciudad de México                  1              27.0              32.0   \n",
       "4  Trabajo desde casa                  0               NaN               NaN   \n",
       "\n",
       "   listing_age_days  \n",
       "0              30.0  \n",
       "1              20.0  \n",
       "2               1.0  \n",
       "3              30.0  \n",
       "4              30.0  "
      ]
     },
     "execution_count": 5,
     "metadata": {},
     "output_type": "execute_result"
    }
   ],
   "source": [
    "data.head()"
   ]
  },
  {
   "cell_type": "code",
   "execution_count": 6,
   "metadata": {},
   "outputs": [
    {
     "data": {
      "text/plain": [
       "(30, 10)"
      ]
     },
     "execution_count": 6,
     "metadata": {},
     "output_type": "execute_result"
    }
   ],
   "source": [
    "data.shape"
   ]
  },
  {
   "cell_type": "code",
   "execution_count": null,
   "metadata": {},
   "outputs": [],
   "source": []
  }
 ],
 "metadata": {
  "kernelspec": {
   "display_name": "dagster-project",
   "language": "python",
   "name": "python3"
  },
  "language_info": {
   "codemirror_mode": {
    "name": "ipython",
    "version": 3
   },
   "file_extension": ".py",
   "mimetype": "text/x-python",
   "name": "python",
   "nbconvert_exporter": "python",
   "pygments_lexer": "ipython3",
   "version": "3.10.11"
  }
 },
 "nbformat": 4,
 "nbformat_minor": 2
}
